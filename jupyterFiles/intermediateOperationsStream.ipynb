{
 "cells": [
  {
   "cell_type": "code",
   "execution_count": 5,
   "id": "269358fd-2973-4d5b-a052-544539227e4e",
   "metadata": {
    "vscode": {
     "languageId": "java"
    }
   },
   "outputs": [],
   "source": [
    "import java.util.stream.*; \n",
    "Random rd = new Random();\n",
    "\n",
    "static class Ticket{ \n",
    "        private String name; \n",
    "        private Boolean isConfirmed; \n",
    "        private int row; \n",
    "        private int col;\n",
    "\n",
    "        public String getString(){\n",
    "            return name; \n",
    "        }\n",
    "\n",
    "        static Optional<Ticket> getInstance(){\n",
    "            if(rd.nextInt(1,3)==1){\n",
    "                Ticket t = new Ticket(\"John\", true, 1, 1);\n",
    "                return Optional.of(t);\n",
    "            }else{\n",
    "                return Optional.empty();\n",
    "            }\n",
    "\n",
    "        }\n",
    "\n",
    "        public Ticket(String n, Boolean ic, int r, int c){\n",
    "            this.name=n; \n",
    "            this.isConfirmed=ic; \n",
    "            this.row=r; \n",
    "            this.col=c; \n",
    "        }\n",
    "\n",
    "        @Override\n",
    "        public String toString(){\n",
    "            return \"{\" +name +\" | \" +isConfirmed +\" | \" +row  +\" | \" +col  +\"}\";\n",
    "        }\n",
    "    }\n",
    "\n",
    "public List< Optional<Ticket> > listTicket = Stream.generate(Ticket::getInstance)\n",
    "                                            .limit(10)\n",
    "                                            .toList();\n",
    "\n",
    "public List<Integer> listInteger = IntStream.iterate(1, s -> rd.nextInt(1,101))\n",
    "                                            .limit(10)\n",
    "                                            .boxed()\n",
    "                                            .toList(); \n",
    "\n"
   ]
  },
  {
   "cell_type": "markdown",
   "id": "d6d07a57-a70b-4367-bcc6-50e4a300152e",
   "metadata": {},
   "source": [
    "## distinct\n",
    "- removes an object from a list if it appears more than once\n",
    "- using listTicket, this method just distincts empty optionals (if it's not empty, has different memory address)\n",
    "\n",
    "## skip \n",
    "- self-explaining (skip N elements)\n",
    "\n",
    "## takeWhile\n",
    "- it goes through the first sequence that matches the predicate\n",
    "- when predicate returns false, it aborts the stream\n",
    "## dropWhile\n",
    "- it drop the first sequence that matches the predicate\n",
    "- when predicate returns false, it follows the stream ignoring the predicate"
   ]
  },
  {
   "cell_type": "code",
   "execution_count": 4,
   "id": "a046c6b2-9b50-40e3-b7b9-da4d96d81197",
   "metadata": {
    "vscode": {
     "languageId": "java"
    }
   },
   "outputs": [
    {
     "name": "stdout",
     "output_type": "stream",
     "text": [
      "[Optional[{John | true | 1 | 1}], Optional.empty, Optional.empty, Optional[{John | true | 1 | 1}], Optional[{John | true | 1 | 1}], Optional.empty, Optional[{John | true | 1 | 1}], Optional.empty, Optional.empty, Optional[{John | true | 1 | 1}]]\n",
      "\n",
      "[1, 88, 1, 11, 26, 60, 3, 39, 54, 14]\n",
      "1 88 1 11 26 60 3 39 54 14 \n"
     ]
    }
   ],
   "source": [
    "import java.util.stream.*; \n",
    "import java.util.*; \n",
    "\n",
    "System.out.println(listTicket); \n",
    "System.out.println(); \n",
    "System.out.println(listInteger); \n",
    "\n",
    "\n",
    "listTicket.stream()\n",
    "    .distinct()\n",
    "    .toList(); \n",
    "\n",
    "listInteger.stream()\n",
    "        .map(s -> {\n",
    "            if (s%2==0){\n",
    "                return 2;\n",
    "            }\n",
    "                return 0;     \n",
    "        })\n",
    "        .distinct()\n",
    "        .toList();\n",
    "\n",
    "listInteger.stream()\n",
    "            .skip(3)\n",
    "            .toList(); \n",
    "\n",
    "listInteger.stream()\n",
    "            .takeWhile(p -> p < 90)\n",
    "            .forEach(i -> System.out.print(i +\" \")); \n",
    "\n",
    "System.out.println(); \n",
    "\n",
    "listInteger.stream()\n",
    "            .dropWhile(p -> p < 90)\n",
    "            .forEach(i -> System.out.print(i +\" \")); "
   ]
  }
 ],
 "metadata": {
  "kernelspec": {
   "display_name": "Java",
   "language": "java",
   "name": "java"
  },
  "language_info": {
   "codemirror_mode": "java",
   "file_extension": ".jshell",
   "mimetype": "text/x-java-source",
   "name": "Java",
   "pygments_lexer": "java",
   "version": "17.0.12+7"
  }
 },
 "nbformat": 4,
 "nbformat_minor": 5
}

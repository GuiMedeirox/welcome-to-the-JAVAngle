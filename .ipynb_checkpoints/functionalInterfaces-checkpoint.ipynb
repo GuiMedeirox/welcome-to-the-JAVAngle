{
 "cells": [
  {
   "cell_type": "code",
   "execution_count": 3,
   "metadata": {
    "vscode": {
     "languageId": "java"
    }
   },
   "outputs": [
    {
     "name": "stdout",
     "output_type": "stream",
     "text": [
      "Teste\n",
      "john doe\n"
     ]
    }
   ],
   "source": [
    "import java.util.*; \n",
    "\n",
    "List<String> list = new ArrayList<>(List.of(\"String\", \"String2\", \"String3\"));\n",
    "\n",
    "System.out.println(list);"
   ]
  },
  {
   "cell_type": "markdown",
   "metadata": {},
   "source": [
    "loremipsum"
   ]
  }
 ],
 "metadata": {
  "kernelspec": {
   "display_name": "Java",
   "language": "java",
   "name": "java"
  },
  "language_info": {
   "codemirror_mode": "java",
   "file_extension": ".jshell",
   "mimetype": "text/x-java-source",
   "name": "Java",
   "pygments_lexer": "java",
   "version": "17.0.11+1-b1207.20"
  }
 },
 "nbformat": 4,
 "nbformat_minor": 2
}

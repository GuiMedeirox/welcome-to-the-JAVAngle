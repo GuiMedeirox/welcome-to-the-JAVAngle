{
 "cells": [
  {
   "cell_type": "markdown",
   "id": "60ef2a71-0a51-4c15-9431-63a04f9c41d1",
   "metadata": {
    "jp-MarkdownHeadingCollapsed": true
   },
   "source": [
    "## Consumer and biConsumer\n",
    "- executes a codeblock without return anything\n",
    "- the differences and consumer and biconsumer are the number of inputs *(consumer receives 1 and biconsumer receives 2)*"
   ]
  },
  {
   "cell_type": "markdown",
   "id": "027d2e0c-f26d-4b8e-82ce-13eb0a10f85a",
   "metadata": {},
   "source": [
    "### Consumer example"
   ]
  },
  {
   "cell_type": "code",
   "execution_count": 5,
   "id": "9fce0a7e-e4cf-4acd-9b1f-5f168ba802b3",
   "metadata": {},
   "outputs": [
    {
     "name": "stdout",
     "output_type": "stream",
     "text": [
      "HELLO\n",
      "world\n"
     ]
    }
   ],
   "source": [
    "import java.util.function.*; \n",
    "\n",
    "Consumer<String> consumer = (a1) -> System.out.println(a1.toUpperCase());\n",
    "\n",
    "Consumer<String> consumer2 = new Consumer<String>() {\n",
    "            @Override\n",
    "            public void accept(String s) {\n",
    "                System.out.println(s.toLowerCase());\n",
    "    }\n",
    "};\n",
    "        consumer.accept(\"Hello\");\n",
    "        consumer2.accept(\"WORLD\");"
   ]
  },
  {
   "cell_type": "markdown",
   "id": "e40b7666-b95a-4f32-b96a-f24ce60b5413",
   "metadata": {},
   "source": [
    "### BiConsumer example"
   ]
  },
  {
   "cell_type": "code",
   "execution_count": 11,
   "id": "f08fe835-43c6-4f44-ae86-733181abc954",
   "metadata": {},
   "outputs": [
    {
     "name": "stdout",
     "output_type": "stream",
     "text": [
      "consumer 2 without lambda expression - HELLO and 169\n",
      "consumer 1 w/ lambda expression - JOHN 3\n"
     ]
    }
   ],
   "source": [
    "BiConsumer<String, String> biConsumer = (a1, a2) -> System.out.println( \"consumer 1 w/ lambda expression - \" +a1.toUpperCase() +\" \" +a2.length());\n",
    "\n",
    "BiConsumer<String, Integer> biConsumer2 = new BiConsumer<String, Integer>() {\n",
    "    @Override\n",
    "    public void accept(String s, Integer i2) {\n",
    "        System.out.println(\"consumer 2 without lambda expression - \" +s.toUpperCase() +\" and \" +i2*i2);\n",
    "    }\n",
    "};\n",
    "\n",
    "biConsumer2.accept(\"Hello\", 13);\n",
    "biConsumer.accept(\"John\", \"Doe\");"
   ]
  },
  {
   "cell_type": "markdown",
   "id": "abce4f4d-cdcb-4692-a747-0552737e35b2",
   "metadata": {},
   "source": [
    "## Predicate and biPredicate\n",
    "- test one (Predicate) or more conditions (biPredicate)"
   ]
  },
  {
   "cell_type": "markdown",
   "id": "bacbff5b-479e-44c8-8249-d2fcb2e89f22",
   "metadata": {},
   "source": [
    "### predicate example"
   ]
  },
  {
   "cell_type": "code",
   "execution_count": 17,
   "id": "29689085-d71b-48ca-a7e8-6e6475a73c44",
   "metadata": {},
   "outputs": [
    {
     "name": "stdout",
     "output_type": "stream",
     "text": [
      "true | false\n"
     ]
    }
   ],
   "source": [
    "import java.util.function.*; \n",
    "\n",
    "Predicate<String> predicate1 = (s) -> s.length()%2==0; \n",
    "Predicate<String> predicate2 = new Predicate<String>(){\n",
    "\n",
    "    @Override\n",
    "    public boolean test(String v){\n",
    "        return v.length()%2==0;\n",
    "    }\n",
    "};\n",
    " \n",
    "System.out.println( predicate1.test(\"ball\") +\" | \" +predicate2.test(\"cam\")); "
   ]
  },
  {
   "cell_type": "markdown",
   "id": "f976793e-10ef-4e32-8b63-5355d9b62cff",
   "metadata": {},
   "source": [
    "### biPredicate"
   ]
  },
  {
   "cell_type": "code",
   "execution_count": 46,
   "id": "bfa425d7-2279-43c0-aad3-2554f55106c3",
   "metadata": {},
   "outputs": [
    {
     "name": "stdout",
     "output_type": "stream",
     "text": [
      "86 62\n",
      "true true\n"
     ]
    }
   ],
   "source": [
    "import java.util.function.*; \n",
    "import java.util.*; \n",
    "Random rd = new Random(); \n",
    "BiPredicate<String, String> bipredicate1 = (s, t) -> s.length()%2==0 && t.length()%2!=0; \n",
    "BiPredicate<Integer, Integer> bipredicate2 = new BiPredicate<Integer, Integer>(){\n",
    "\n",
    "    @Override\n",
    "    public boolean test(Integer v, Integer w ){\n",
    "        System.out.println(v +\" \" +w);\n",
    "        return v > w; \n",
    "    }\n",
    "};\n",
    " \n",
    "System.out.println( bipredicate1.test(\"John\", \"Doe\") +\" \" +bipredicate2.test(rd.nextInt(1,101), rd.nextInt(1,101))); \n"
   ]
  },
  {
   "cell_type": "markdown",
   "id": "888f2661-c541-43d1-847a-a68c3838fa1d",
   "metadata": {},
   "source": [
    "## supplier \n",
    "- return an instance of something"
   ]
  },
  {
   "cell_type": "code",
   "execution_count": 55,
   "id": "b384032f-ace6-4199-bb22-f8bddeb64bac",
   "metadata": {},
   "outputs": [
    {
     "name": "stdout",
     "output_type": "stream",
     "text": [
      "class java.util.Scanner\n",
      " ========== \n",
      "class java.util.Scanner\n"
     ]
    }
   ],
   "source": [
    "import java.util.*; \n",
    "\n",
    "Supplier<Scanner> getScanner = new Supplier<Scanner>(){\n",
    "    @Override\n",
    "    public Scanner get(){\n",
    "        return new Scanner(System.in);\n",
    "    }\n",
    "};\n",
    "\n",
    "Supplier<Scanner> getScanner2 = () -> new Scanner(System.in);\n",
    "\n",
    "System.out.println(getScanner.get().getClass() +\"\\n ========== \\n\" +getScanner2.get().getClass()); "
   ]
  },
  {
   "cell_type": "markdown",
   "id": "34903fda-9dbd-4a8a-8c28-39ebbd43f348",
   "metadata": {},
   "source": [
    "## Function\n",
    "- we enter a type to get a type as result"
   ]
  },
  {
   "cell_type": "code",
   "execution_count": 6,
   "id": "cef9c420-753d-46c6-9b48-c5d50f821cca",
   "metadata": {},
   "outputs": [
    {
     "name": "stdout",
     "output_type": "stream",
     "text": [
      "the number 12 was informed\n",
      "square of 13 is 169\n"
     ]
    }
   ],
   "source": [
    "import java.util.function.*; \n",
    "\n",
    "\n",
    "Function<Integer, String> f1 = new Function<Integer, String>(){\n",
    "    @Override\n",
    "    public String apply(Integer i){\n",
    "        return \"the number \" +i +\" was informed\"; \n",
    "    }\n",
    "};\n",
    "\n",
    "Function<Integer, String> f2 = (Integer i) -> \"square of \" +i +\" is \" +i*i;\n",
    "System.out.println(f1.apply(12)); \n",
    "System.out.println(f2.apply(13));"
   ]
  },
  {
   "cell_type": "markdown",
   "id": "9bc68545-c057-47c9-b1ce-80685c6d9813",
   "metadata": {},
   "source": [
    "## BiFunction\n",
    "- we enter two types to get a type as result ;"
   ]
  },
  {
   "cell_type": "code",
   "execution_count": 69,
   "id": "eac13b17-3feb-47f8-bbc1-bfadb23946dc",
   "metadata": {},
   "outputs": [
    {
     "name": "stdout",
     "output_type": "stream",
     "text": [
      "7\n",
      "false\n",
      "false\n"
     ]
    }
   ],
   "source": [
    "import java.util.function.*; \n",
    "\n",
    "Random rd = new Random();\n",
    "\n",
    "BiFunction<Integer, String, Boolean> bf1 = new BiFunction<Integer, String, Boolean>(){\n",
    "    @Override\n",
    "    public Boolean apply(Integer i, String s){\n",
    "        System.out.println(i); \n",
    "        return i%2==0 && s.length()%2==0;\n",
    "    } \n",
    "};\n",
    "\n",
    "BiFunction<Integer, String, Boolean> bf2 = (Integer a, String b) -> a%2==0 && b.length()%2!=0;\n",
    " \n",
    "System.out.println(bf1.apply(rd.nextInt(1,10),\"John\"));\n",
    "System.out.println(bf2.apply(rd.nextInt(1,10), \"Doe\"));"
   ]
  },
  {
   "cell_type": "markdown",
   "id": "88074d9f-dcba-4f77-a151-e3e7f9f0b22b",
   "metadata": {},
   "source": [
    "## UnaryOperator\n",
    "- a Function with a single input-output type"
   ]
  },
  {
   "cell_type": "code",
   "execution_count": 26,
   "id": "c120c187-7294-4f4d-97c3-c88de86fd8be",
   "metadata": {},
   "outputs": [
    {
     "name": "stdout",
     "output_type": "stream",
     "text": [
      "100\n",
      "400\n"
     ]
    }
   ],
   "source": [
    "import java.util.function.*; \n",
    "\n",
    "UnaryOperator<Integer> unOp = new UnaryOperator<>(){\n",
    "    @Override\n",
    "    public Integer apply(Integer i){\n",
    "        return i*i; \n",
    "    }\n",
    "};\n",
    "\n",
    "UnaryOperator<Integer> unOp2 = (i) -> i*i;\n",
    "\n",
    "System.out.println(unOp.apply(10)); \n",
    "System.out.println(unOp2.apply(20)); "
   ]
  },
  {
   "cell_type": "markdown",
   "id": "fa9c5be4-3cf0-44ba-9278-4d3cbf1bb94e",
   "metadata": {},
   "source": [
    "## BinaryOperator\n",
    "- a BiFunction with a single-output type"
   ]
  },
  {
   "cell_type": "code",
   "execution_count": 74,
   "id": "0edf9ec6-484d-4e39-93f9-c72f7ccf8600",
   "metadata": {},
   "outputs": [
    {
     "name": "stdout",
     "output_type": "stream",
     "text": [
      "30\n",
      "40\n"
     ]
    }
   ],
   "source": [
    "import java.util.function.*; \n",
    "\n",
    "BinaryOperator<Integer> binOp = new BinaryOperator<>(){\n",
    "    @Override\n",
    "    public Integer apply(Integer a, Integer b){\n",
    "        return a+b; \n",
    "    }\n",
    "};\n",
    "\n",
    "BinaryOperator<Integer> binOp2 = (a, b) -> a+b; \n",
    "System.out.println(binOp.apply(10,20)); \n",
    "System.out.println(binOp2.apply(10,30)); "
   ]
  }
 ],
 "metadata": {
  "kernelspec": {
   "display_name": "Java",
   "language": "java",
   "name": "java"
  },
  "language_info": {
   "codemirror_mode": "java",
   "file_extension": ".jshell",
   "mimetype": "text/x-java-source",
   "name": "Java",
   "pygments_lexer": "java",
   "version": "17.0.12+7"
  }
 },
 "nbformat": 4,
 "nbformat_minor": 5
}
